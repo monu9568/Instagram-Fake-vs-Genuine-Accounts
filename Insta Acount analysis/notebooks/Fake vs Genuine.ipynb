{
 "cells": [
  {
   "cell_type": "code",
   "execution_count": 1,
   "id": "d9e2cb28-12f6-4fda-84ec-4ad175e58684",
   "metadata": {},
   "outputs": [],
   "source": [
    "import pandas as pd\n",
    "import numpy as np\n",
    "import matplotlib.pyplot as plt\n",
    "import seaborn as sns\n",
    "\n",
    "from sklearn.ensemble import RandomForestClassifier\n",
    "from sklearn.metrics import classification_report, confusion_matrix, accuracy_score\n"
   ]
  },
  {
   "cell_type": "code",
   "execution_count": 2,
   "id": "a73b26fa-9b30-4db1-abed-fe43d7a19ff6",
   "metadata": {},
   "outputs": [],
   "source": [
    "df2=pd.read_csv(\"../data/test.csv\")\n",
    "df=pd.read_csv(\"../data/train.csv\")\n",
    "data=pd.DataFrame(df)"
   ]
  },
  {
   "cell_type": "code",
   "execution_count": 3,
   "id": "99903bea-7b65-4a2f-8eb5-22d532c5569b",
   "metadata": {},
   "outputs": [
    {
     "data": {
      "text/html": [
       "<div>\n",
       "<style scoped>\n",
       "    .dataframe tbody tr th:only-of-type {\n",
       "        vertical-align: middle;\n",
       "    }\n",
       "\n",
       "    .dataframe tbody tr th {\n",
       "        vertical-align: top;\n",
       "    }\n",
       "\n",
       "    .dataframe thead th {\n",
       "        text-align: right;\n",
       "    }\n",
       "</style>\n",
       "<table border=\"1\" class=\"dataframe\">\n",
       "  <thead>\n",
       "    <tr style=\"text-align: right;\">\n",
       "      <th></th>\n",
       "      <th>profile pic</th>\n",
       "      <th>nums/length username</th>\n",
       "      <th>fullname words</th>\n",
       "      <th>nums/length fullname</th>\n",
       "      <th>name==username</th>\n",
       "      <th>description length</th>\n",
       "      <th>external URL</th>\n",
       "      <th>private</th>\n",
       "      <th>#posts</th>\n",
       "      <th>#followers</th>\n",
       "      <th>#follows</th>\n",
       "      <th>fake</th>\n",
       "    </tr>\n",
       "  </thead>\n",
       "  <tbody>\n",
       "    <tr>\n",
       "      <th>0</th>\n",
       "      <td>1</td>\n",
       "      <td>0.27</td>\n",
       "      <td>0</td>\n",
       "      <td>0.0</td>\n",
       "      <td>0</td>\n",
       "      <td>53</td>\n",
       "      <td>0</td>\n",
       "      <td>0</td>\n",
       "      <td>32</td>\n",
       "      <td>1000</td>\n",
       "      <td>955</td>\n",
       "      <td>0</td>\n",
       "    </tr>\n",
       "    <tr>\n",
       "      <th>1</th>\n",
       "      <td>1</td>\n",
       "      <td>0.00</td>\n",
       "      <td>2</td>\n",
       "      <td>0.0</td>\n",
       "      <td>0</td>\n",
       "      <td>44</td>\n",
       "      <td>0</td>\n",
       "      <td>0</td>\n",
       "      <td>286</td>\n",
       "      <td>2740</td>\n",
       "      <td>533</td>\n",
       "      <td>0</td>\n",
       "    </tr>\n",
       "    <tr>\n",
       "      <th>2</th>\n",
       "      <td>1</td>\n",
       "      <td>0.10</td>\n",
       "      <td>2</td>\n",
       "      <td>0.0</td>\n",
       "      <td>0</td>\n",
       "      <td>0</td>\n",
       "      <td>0</td>\n",
       "      <td>1</td>\n",
       "      <td>13</td>\n",
       "      <td>159</td>\n",
       "      <td>98</td>\n",
       "      <td>0</td>\n",
       "    </tr>\n",
       "    <tr>\n",
       "      <th>3</th>\n",
       "      <td>1</td>\n",
       "      <td>0.00</td>\n",
       "      <td>1</td>\n",
       "      <td>0.0</td>\n",
       "      <td>0</td>\n",
       "      <td>82</td>\n",
       "      <td>0</td>\n",
       "      <td>0</td>\n",
       "      <td>679</td>\n",
       "      <td>414</td>\n",
       "      <td>651</td>\n",
       "      <td>0</td>\n",
       "    </tr>\n",
       "    <tr>\n",
       "      <th>4</th>\n",
       "      <td>1</td>\n",
       "      <td>0.00</td>\n",
       "      <td>2</td>\n",
       "      <td>0.0</td>\n",
       "      <td>0</td>\n",
       "      <td>0</td>\n",
       "      <td>0</td>\n",
       "      <td>1</td>\n",
       "      <td>6</td>\n",
       "      <td>151</td>\n",
       "      <td>126</td>\n",
       "      <td>0</td>\n",
       "    </tr>\n",
       "  </tbody>\n",
       "</table>\n",
       "</div>"
      ],
      "text/plain": [
       "   profile pic  nums/length username  fullname words  nums/length fullname  \\\n",
       "0            1                  0.27               0                   0.0   \n",
       "1            1                  0.00               2                   0.0   \n",
       "2            1                  0.10               2                   0.0   \n",
       "3            1                  0.00               1                   0.0   \n",
       "4            1                  0.00               2                   0.0   \n",
       "\n",
       "   name==username  description length  external URL  private  #posts  \\\n",
       "0               0                  53             0        0      32   \n",
       "1               0                  44             0        0     286   \n",
       "2               0                   0             0        1      13   \n",
       "3               0                  82             0        0     679   \n",
       "4               0                   0             0        1       6   \n",
       "\n",
       "   #followers  #follows  fake  \n",
       "0        1000       955     0  \n",
       "1        2740       533     0  \n",
       "2         159        98     0  \n",
       "3         414       651     0  \n",
       "4         151       126     0  "
      ]
     },
     "execution_count": 3,
     "metadata": {},
     "output_type": "execute_result"
    }
   ],
   "source": [
    "df.head( )\n"
   ]
  },
  {
   "cell_type": "code",
   "execution_count": 4,
   "id": "e5c920de-14cb-4101-8e14-a24249e5fe8d",
   "metadata": {},
   "outputs": [
    {
     "data": {
      "text/plain": [
       "(576, 12)"
      ]
     },
     "execution_count": 4,
     "metadata": {},
     "output_type": "execute_result"
    }
   ],
   "source": [
    "df.shape\n"
   ]
  },
  {
   "cell_type": "code",
   "execution_count": 5,
   "id": "fba58215-633f-402b-a522-288d7e2b5035",
   "metadata": {},
   "outputs": [
    {
     "data": {
      "text/plain": [
       "profile pic             0\n",
       "nums/length username    0\n",
       "fullname words          0\n",
       "nums/length fullname    0\n",
       "name==username          0\n",
       "description length      0\n",
       "external URL            0\n",
       "private                 0\n",
       "#posts                  0\n",
       "#followers              0\n",
       "#follows                0\n",
       "fake                    0\n",
       "dtype: int64"
      ]
     },
     "execution_count": 5,
     "metadata": {},
     "output_type": "execute_result"
    }
   ],
   "source": [
    "df2.isnull().sum()"
   ]
  },
  {
   "cell_type": "code",
   "execution_count": 6,
   "id": "0796a1f6-b4eb-4ca0-8e18-7c0a64f58ded",
   "metadata": {},
   "outputs": [
    {
     "data": {
      "text/plain": [
       "Index(['profile pic', 'nums/length username', 'fullname words',\n",
       "       'nums/length fullname', 'name==username', 'description length',\n",
       "       'external URL', 'private', '#posts', '#followers', '#follows', 'fake'],\n",
       "      dtype='object')"
      ]
     },
     "execution_count": 6,
     "metadata": {},
     "output_type": "execute_result"
    }
   ],
   "source": [
    "df.columns"
   ]
  },
  {
   "cell_type": "code",
   "execution_count": 7,
   "id": "2e4d4876-eab8-4fc7-bae4-19c524f9cf59",
   "metadata": {},
   "outputs": [
    {
     "data": {
      "text/plain": [
       "fullname words\n",
       "0      27\n",
       "1     208\n",
       "2      41\n",
       "3       9\n",
       "4       2\n",
       "5       1\n",
       "6       0\n",
       "10      0\n",
       "12      0\n",
       "Name: fake, dtype: int64"
      ]
     },
     "execution_count": 7,
     "metadata": {},
     "output_type": "execute_result"
    }
   ],
   "source": [
    "df.groupby(\"fullname words\")[\"fake\"].sum()"
   ]
  },
  {
   "cell_type": "code",
   "execution_count": 8,
   "id": "e48ef55a-ec1d-4a8e-bb9b-a8b5d4b94bcf",
   "metadata": {},
   "outputs": [
    {
     "name": "stderr",
     "output_type": "stream",
     "text": [
      "C:\\Users\\whoam\\AppData\\Local\\Temp\\ipykernel_3248\\4127581684.py:1: FutureWarning: \n",
      "\n",
      "Passing `palette` without assigning `hue` is deprecated and will be removed in v0.14.0. Assign the `x` variable to `hue` and set `legend=False` for the same effect.\n",
      "\n",
      "  sns.countplot(x='fake', data=df, palette='Set2')\n"
     ]
    },
    {
     "data": {
      "image/png": "[encoded data removed]",
      "text/plain": [
       "<Figure size 640x480 with 1 Axes>"
      ]
     },
     "metadata": {},
     "output_type": "display_data"
    }
   ],
   "source": [
    "sns.countplot(x='fake', data=df, palette='Set2')\n",
    "plt.title(\"Distribution of Fake vs Genuine Accounts\")\n",
    "plt.xticks([0, 1], [\"Genuine\", \"Fake\"])\n",
    "plt.show()"
   ]
  },
  {
   "cell_type": "code",
   "execution_count": 9,
   "id": "d331ca91-19d0-4ce1-bc36-fd9569c9a2ca",
   "metadata": {},
   "outputs": [
    {
     "data": {
      "image/png": "[encoded data removed]",
      "text/plain": [
       "<Figure size 640x480 with 1 Axes>"
      ]
     },
     "metadata": {},
     "output_type": "display_data"
    }
   ],
   "source": [
    "sns.boxplot(x=\"fake\", y=\"#followers\", data=df)\n",
    "plt.title(\"Followers Count Distribution by Account Type\")\n",
    "plt.yscale(\"log\")  \n",
    "plt.show()\n"
   ]
  },
  {
   "cell_type": "code",
   "execution_count": 10,
   "id": "bbb22927-5e73-455b-964e-ee0fa0809133",
   "metadata": {},
   "outputs": [
    {
     "data": {
      "text/plain": [
       "profile pic  description length  #followers  #follows\n",
       "0            0                   0           0           3\n",
       "                                 15          1           2\n",
       "                                 0           71          2\n",
       "                                 49          0           2\n",
       "                                 46          4           1\n",
       "                                                        ..\n",
       "1            0                   13          77          1\n",
       "                                 12          192         1\n",
       "                                             77          1\n",
       "                                 11          60          1\n",
       "             150                 1383        7500        1\n",
       "Name: count, Length: 569, dtype: int64"
      ]
     },
     "execution_count": 10,
     "metadata": {},
     "output_type": "execute_result"
    }
   ],
   "source": [
    "df.groupby('profile pic')[['description length','#followers','#follows']].value_counts()"
   ]
  },
  {
   "cell_type": "code",
   "execution_count": 11,
   "id": "f4eb137e-321a-4562-8b3e-0876eaefd0e9",
   "metadata": {},
   "outputs": [
    {
     "data": {
      "image/png": "[encoded data removed]",
      "text/plain": [
       "<Figure size 640x480 with 1 Axes>"
      ]
     },
     "metadata": {},
     "output_type": "display_data"
    }
   ],
   "source": [
    "avg_followers = data.groupby(\"fake\")[\"#followers\"].mean().reset_index()\n",
    "avg_followers[\"fake\"] = avg_followers[\"fake\"].map({0:\"Genuine\", 1:\"Fake\"})\n",
    "\n",
    "sns.barplot(x=\"fake\", y=\"#followers\", data=avg_followers)\n",
    "plt.title(\"Average Followers: Fake vs Genuine Accounts\")\n",
    "plt.show()"
   ]
  },
  {
   "cell_type": "code",
   "execution_count": 13,
   "id": "3695d2ae-dc1c-4375-a1e9-6646561f735f",
   "metadata": {},
   "outputs": [
    {
     "name": "stdout",
     "output_type": "stream",
     "text": [
      "accuracy of y predict 0.9248554913294798\n",
      "\n",
      " Classification report: \n",
      "               precision    recall  f1-score   support\n",
      "\n",
      "           0       0.94      0.91      0.93        93\n",
      "           1       0.90      0.94      0.92        80\n",
      "\n",
      "    accuracy                           0.92       173\n",
      "   macro avg       0.92      0.93      0.92       173\n",
      "weighted avg       0.93      0.92      0.92       173\n",
      "\n",
      "           Feature  Importance\n",
      "1       #followers    0.315508\n",
      "3           #posts    0.243270\n",
      "0  ratio_followers    0.173121\n",
      "5      profile pic    0.144099\n",
      "2         #follows    0.108468\n",
      "4          private    0.015535\n"
     ]
    }
   ],
   "source": [
    "from sklearn.model_selection import train_test_split\n",
    "df['ratio_followers']=df['#followers'] / (df['#follows'] + 1)\n",
    "X=df[['ratio_followers','#followers','#follows','#posts','private','profile pic']]\n",
    "y=df['fake']\n",
    "X_train, X_test, y_train, y_test =train_test_split(X,y,test_size=0.3,random_state=42 )\n",
    "model=RandomForestClassifier(n_estimators=100,random_state=42)\n",
    "model.fit(X_train,y_train)\n",
    "y_predict=model.predict(X_test)\n",
    "print(\"accuracy of y predict\",accuracy_score(y_test,y_predict))\n",
    "print(\"\\n Classification report: \\n\",classification_report(y_test,y_predict))\n",
    "\n",
    "feature_importances = pd.DataFrame({\n",
    "    'Feature': X.columns,\n",
    "    'Importance': model.feature_importances_\n",
    "}).sort_values(by='Importance', ascending=False)\n",
    "\n",
    "print(feature_importances)\n"
   ]
  },
  {
   "cell_type": "code",
   "execution_count": null,
   "id": "a0784c43-4a49-4058-9406-96e43507a652",
   "metadata": {},
   "outputs": [],
   "source": []
  }
 ],
 "metadata": {
  "kernelspec": {
   "display_name": "Python 3 (ipykernel)",
   "language": "python",
   "name": "python3"
  },
  "language_info": {
   "codemirror_mode": {
    "name": "ipython",
    "version": 3
   },
   "file_extension": ".py",
   "mimetype": "text/x-python",
   "name": "python",
   "nbconvert_exporter": "python",
   "pygments_lexer": "ipython3",
   "version": "3.11.5"
  }
 },
 "nbformat": 4,
 "nbformat_minor": 5
}
